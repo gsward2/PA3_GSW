{
 "cells": [
  {
   "cell_type": "markdown",
   "id": "886bf453-5627-4041-8e0f-03ea8425be0c",
   "metadata": {},
   "source": [
    "# Programming Assignment 3\n",
    "---\n",
    "**Author:** Garrett Ward  \n",
    "**Version:** 1.0  \n",
    "**Semester:** Spring 2024 \n",
    "\n",
    "This *notebook* contains my solution(s) to **Programming Assignment 3**\n"
   ]
  },
  {
   "cell_type": "markdown",
   "id": "d591e776-d137-4669-ab7a-fd42ed67525a",
   "metadata": {},
   "source": [
    "### Problem 1 - Geometry Calculator"
   ]
  },
  {
   "cell_type": "code",
   "execution_count": 8,
   "id": "e55c1355-bbb2-41e4-b924-3964f7bbdff8",
   "metadata": {
    "tags": []
   },
   "outputs": [
    {
     "name": "stdin",
     "output_type": "stream",
     "text": [
      "Enter the shape you want to find or Q to quit. Q\n"
     ]
    },
    {
     "name": "stdout",
     "output_type": "stream",
     "text": [
      "Done!\n"
     ]
    }
   ],
   "source": [
    "import math\n",
    "\n",
    "def calculate_square_area_and_perimeter(side_length):\n",
    "    area = side_length ** 2\n",
    "    perimeter = 4 * side_length\n",
    "    return area, perimeter\n",
    "\n",
    "def calculate_triangle_area_and_perimeter(base, height):\n",
    "    area = 0.5 * base * height\n",
    "    hypotenuse = math.sqrt(base**2 + height**2)\n",
    "    perimeter = base + height + hypotenuse\n",
    "    return area, perimeter\n",
    "\n",
    "def calculate_circle_area_and_perimeter(radius):\n",
    "    area = math.pi * radius ** 2\n",
    "    perimeter = 2 * math.pi * radius\n",
    "    return area, perimeter\n",
    "\n",
    "def calculate_rectangle_area_and_perimeter(length, width):\n",
    "    area = length * width\n",
    "    perimeter = 2 * (length + width)\n",
    "    return area, perimeter\n",
    "\n",
    "def calculate_ellipse_area_and_perimeter(a, b):\n",
    "    area = math.pi * a * b\n",
    "    perimeter = math.pi * (3 * (a + b) - math.sqrt((3 * a + b) * (a + 3 * b)))\n",
    "    return area, perimeter\n",
    "\n",
    "def calculate_trapezoid_area_and_perimeter(base1, base2, height, side1, side2):\n",
    "    area = 0.5 * (base1 + base2) * height\n",
    "    perimeter = base1 + base2 + side1 + side2\n",
    "    return area, perimeter\n",
    "\n",
    "def main():\n",
    "    while True:\n",
    "        shape = input(\"Enter the shape you want to find or Q to quit.\")\n",
    "\n",
    "        if shape == 'Q':\n",
    "            print(\"Done!\")\n",
    "            break\n",
    "        elif shape == 'S':\n",
    "            side_length = float(input(\"Enter the side length of the square: \"))\n",
    "            area, perimeter = calculate_square_area_and_perimeter(side_length)\n",
    "        elif shape == 'TRI':\n",
    "            base = float(input(\"Enter the base length of the triangle: \"))\n",
    "            height = float(input(\"Enter the height of the triangle: \"))\n",
    "            area, perimeter = calculate_triangle_area_and_perimeter(base, height)\n",
    "        elif shape == 'C':\n",
    "            radius = float(input(\"Enter the radius of the circle: \"))\n",
    "            area, perimeter = calculate_circle_area_and_perimeter(radius)\n",
    "        elif shape == 'R':\n",
    "            length = float(input(\"Enter the length of the rectangle: \"))\n",
    "            width = float(input(\"Enter the width of the rectangle: \"))\n",
    "            area, perimeter = calculate_rectangle_area_and_perimeter(length, width)\n",
    "        elif shape == 'E':\n",
    "            a = float(input(\"Enter the a-axis of the ellipse: \"))\n",
    "            b = float(input(\"Enter the b-axis of the ellipse: \"))\n",
    "            area, perimeter = calculate_ellipse_area_and_perimeter(a, b)\n",
    "        elif shape == 'TRAP':\n",
    "            base1 = float(input(\"Enter the length of the first base of the trapezoid: \"))\n",
    "            base2 = float(input(\"Enter the length of the second base of the trapezoid: \"))\n",
    "            height = float(input(\"Enter the height of the trapezoid: \"))\n",
    "            side1 = float(input(\"Enter the length of the first side of the trapezoid: \"))\n",
    "            side2 = float(input(\"Enter the length of the second side of the trapezoid: \"))\n",
    "            area, perimeter = calculate_trapezoid_area_and_perimeter(base1, base2, height, side1, side2)\n",
    "        else:\n",
    "            print(\"That is not a valid option.\")\n",
    "            continue\n",
    "\n",
    "        print(f\"Area: {area}\")\n",
    "        print(f\"Perimeter: {perimeter}\")\n",
    "\n",
    "if __name__ == \"__main__\":\n",
    "    main()"
   ]
  },
  {
   "cell_type": "markdown",
   "id": "739e4b15-e094-40bc-b1ff-b22b95c9fd22",
   "metadata": {},
   "source": [
    "### Problem 2 - Horse Computations"
   ]
  },
  {
   "cell_type": "code",
   "execution_count": 9,
   "id": "aa248dec-d5be-438a-b529-c6c9fa0bd6f4",
   "metadata": {
    "tags": []
   },
   "outputs": [
    {
     "name": "stdin",
     "output_type": "stream",
     "text": [
      "Enter the unit you want to convert (H for hands, L for lengths, Q to quit.):  Q\n"
     ]
    }
   ],
   "source": [
    "def convert_hands(hands):\n",
    "    feet = hands * 4 / 12\n",
    "    return feet\n",
    "\n",
    "def convert_length(lengths):\n",
    "    feet = lengths * 8\n",
    "    return feet\n",
    "\n",
    "scale = input(\"Enter the unit you want to convert (H for hands, L for lengths, Q to quit.): \")\n",
    "\n",
    "while scale != 'Q':\n",
    "    if scale == 'H':\n",
    "        hands = float(input(\"Enter the number of hands \"))\n",
    "        feet = convert_hands(hands)\n",
    "        print(f\"{hands} hands is equal to {feet} feet.\")\n",
    "    elif scale == 'L':\n",
    "        lengths = float(input(\"Enter the number of lengths \"))\n",
    "        feet = convert_length(lengths)\n",
    "        print(f\"{lengths} lengths is equal to {feet} feet.\")\n",
    "    else:\n",
    "        print(\"That is not a valid option.\")\n",
    "        \n",
    "    scale = input(\"Enter the unit you want to convert (H for hands, L for lengths, Q to quit.)\")"
   ]
  },
  {
   "cell_type": "markdown",
   "id": "984c5473-20e4-4b2b-b6df-f19c92221e55",
   "metadata": {},
   "source": [
    "### Problem 3 - Mean Temperature"
   ]
  },
  {
   "cell_type": "code",
   "execution_count": 12,
   "id": "1ac1e4fb-2a0d-40a5-9f49-ec32105baf0d",
   "metadata": {
    "tags": []
   },
   "outputs": [
    {
     "name": "stdout",
     "output_type": "stream",
     "text": [
      "The mean temperature for the past 7 days is 74.57 degrees F.\n"
     ]
    }
   ],
   "source": [
    "def meanTemp(temperatures):\n",
    "    total = sum(temperatures)\n",
    "    num_days = len(temperatures)\n",
    "    mean = total / num_days\n",
    "    return mean, num_days\n",
    "\n",
    "temps = [70, 74, 72, 74, 80, 78, 74]\n",
    "\n",
    "mean_temperature, num_days = meanTemp(temps)\n",
    "\n",
    "print(f\"The mean temperature for the past {num_days} days is {mean_temperature:.2f} degrees F.\")"
   ]
  },
  {
   "cell_type": "code",
   "execution_count": null,
   "id": "7692eb4c-8fe6-4e28-b345-6a1aaddb5484",
   "metadata": {},
   "outputs": [],
   "source": []
  }
 ],
 "metadata": {
  "kernelspec": {
   "display_name": "Python 3 (ipykernel)",
   "language": "python",
   "name": "python3"
  },
  "language_info": {
   "codemirror_mode": {
    "name": "ipython",
    "version": 3
   },
   "file_extension": ".py",
   "mimetype": "text/x-python",
   "name": "python",
   "nbconvert_exporter": "python",
   "pygments_lexer": "ipython3",
   "version": "3.11.5"
  }
 },
 "nbformat": 4,
 "nbformat_minor": 5
}
